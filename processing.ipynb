{
 "cells": [
  {
   "cell_type": "markdown",
   "metadata": {},
   "source": [
    "# Setting up gemini api key"
   ]
  },
  {
   "cell_type": "code",
   "execution_count": null,
   "metadata": {},
   "outputs": [],
   "source": [
    "import google.generativeai as genai\n",
    "genai.configure(api_key='YOUR_API_KEY')"
   ]
  },
  {
   "cell_type": "markdown",
   "metadata": {},
   "source": [
    "# Available sicknesses"
   ]
  },
  {
   "cell_type": "code",
   "execution_count": 2,
   "metadata": {},
   "outputs": [],
   "source": [
    "sicknesses = {\n",
    "    \"Common Cold\": {\n",
    "        \"Description\": \"A viral infection of the upper respiratory tract, primarily affecting the nose and throat.\",\n",
    "        \"Symptoms\": [\n",
    "            \"Runny or stuffy nose\",\n",
    "            \"Sneezing\",\n",
    "            \"Sore throat\",\n",
    "            \"Coughing\",\n",
    "            \"Mild headache\",\n",
    "            \"Fatigue\",\n",
    "            \"Low-grade fever\"\n",
    "        ],\n",
    "        \"Causes\": \"Caused by various viruses, most commonly rhinoviruses. Spreads through respiratory droplets or contact with contaminated surfaces.\",\n",
    "        \"Medications\": [\n",
    "            \"Decongestants (e.g., pseudoephedrine) for nasal congestion\",\n",
    "            \"Pain relievers (e.g., ibuprofen or acetaminophen) for fever and headaches\",\n",
    "            \"Cough suppressants (e.g., dextromethorphan)\",\n",
    "            \"Rest, hydration, and soothing throat lozenges\"\n",
    "        ]\n",
    "    },\n",
    "    \"Influenza (Flu)\": {\n",
    "        \"Description\": \"A highly contagious viral infection that affects the respiratory system.\",\n",
    "        \"Symptoms\": [\n",
    "            \"High fever\",\n",
    "            \"Chills\",\n",
    "            \"Muscle aches\",\n",
    "            \"Fatigue\",\n",
    "            \"Sore throat\",\n",
    "            \"Dry cough\",\n",
    "            \"Nasal congestion\"\n",
    "        ],\n",
    "        \"Causes\": \"Caused by influenza viruses transmitted via respiratory droplets or contaminated surfaces.\",\n",
    "        \"Medications\": [\n",
    "            \"Antiviral drugs (e.g., oseltamivir or zanamivir) if taken early\",\n",
    "            \"Pain relievers (e.g., acetaminophen or ibuprofen)\",\n",
    "            \"Rest, hydration, and over-the-counter medications for specific symptoms\"\n",
    "        ]\n",
    "    },\n",
    "    \"Gastroenteritis (Stomach Flu)\": {\n",
    "        \"Description\": \"An inflammation of the stomach and intestines causing digestive distress.\",\n",
    "        \"Symptoms\": [\n",
    "            \"Nausea\",\n",
    "            \"Vomiting\",\n",
    "            \"Diarrhea\",\n",
    "            \"Abdominal cramps\",\n",
    "            \"Fever\",\n",
    "            \"Dehydration\"\n",
    "        ],\n",
    "        \"Causes\": \"Viral (e.g., norovirus, rotavirus), bacterial (e.g., E. coli, Salmonella), or parasitic infections; consuming contaminated food or water.\",\n",
    "        \"Medications\": [\n",
    "            \"Oral rehydration solutions (ORS) for dehydration\",\n",
    "            \"Antidiarrheal drugs (e.g., loperamide, but not recommended for bacterial causes)\",\n",
    "            \"Antiemetics (e.g., ondansetron) for nausea\",\n",
    "            \"Probiotics to restore gut flora\"\n",
    "        ]\n",
    "    },\n",
    "    \"Urinary Tract Infection (UTI)\": {\n",
    "        \"Description\": \"An infection in any part of the urinary system, including the bladder, urethra, or kidneys.\",\n",
    "        \"Symptoms\": [\n",
    "            \"Pain or burning during urination\",\n",
    "            \"Frequent urge to urinate\",\n",
    "            \"Cloudy or foul-smelling urine\",\n",
    "            \"Pelvic pain\",\n",
    "            \"Sometimes fever\"\n",
    "        ],\n",
    "        \"Causes\": \"Bacterial infection, often Escherichia coli (E. coli), which enters through the urethra. Poor hygiene and dehydration increase risk.\",\n",
    "        \"Medications\": [\n",
    "            \"Antibiotics (e.g., nitrofurantoin, trimethoprim-sulfamethoxazole)\",\n",
    "            \"Pain relievers (e.g., phenazopyridine) for urinary discomfort\",\n",
    "            \"Increased water intake to flush out bacteria\"\n",
    "        ]\n",
    "    },\n",
    "    \"Allergic Rhinitis (Hay Fever)\": {\n",
    "        \"Description\": \"An allergic reaction to airborne allergens like pollen, dust mites, or pet dander.\",\n",
    "        \"Symptoms\": [\n",
    "            \"Sneezing\",\n",
    "            \"Runny or congested nose\",\n",
    "            \"Itchy eyes, throat, or nose\",\n",
    "            \"Watery eyes\",\n",
    "            \"Fatigue\"\n",
    "        ],\n",
    "        \"Causes\": \"Allergens trigger the immune system to release histamines, causing symptoms.\",\n",
    "        \"Medications\": [\n",
    "            \"Antihistamines (e.g., loratadine, cetirizine)\",\n",
    "            \"Nasal corticosteroids (e.g., fluticasone, mometasone)\",\n",
    "            \"Decongestants (e.g., pseudoephedrine) for temporary relief\",\n",
    "            \"Allergen avoidance and air purifiers to reduce exposure\"\n",
    "        ]\n",
    "    }\n",
    "}\n"
   ]
  },
  {
   "cell_type": "markdown",
   "metadata": {},
   "source": [
    "# Loading the retriever\n",
    "(and testing it)"
   ]
  },
  {
   "cell_type": "code",
   "execution_count": 9,
   "metadata": {},
   "outputs": [
    {
     "data": {
      "text/plain": [
       "{'Description': 'A viral infection of the upper respiratory tract, primarily affecting the nose and throat.',\n",
       " 'Symptoms': ['Runny or stuffy nose',\n",
       "  'Sneezing',\n",
       "  'Sore throat',\n",
       "  'Coughing',\n",
       "  'Mild headache',\n",
       "  'Fatigue',\n",
       "  'Low-grade fever'],\n",
       " 'Causes': 'Caused by various viruses, most commonly rhinoviruses. Spreads through respiratory droplets or contact with contaminated surfaces.',\n",
       " 'Medications': ['Decongestants (e.g., pseudoephedrine) for nasal congestion',\n",
       "  'Pain relievers (e.g., ibuprofen or acetaminophen) for fever and headaches',\n",
       "  'Cough suppressants (e.g., dextromethorphan)',\n",
       "  'Rest, hydration, and soothing throat lozenges']}"
      ]
     },
     "execution_count": 9,
     "metadata": {},
     "output_type": "execute_result"
    }
   ],
   "source": [
    "import faiss\n",
    "import os \n",
    "import json\n",
    "import numpy as np\n",
    "\n",
    "def embed_query(text):\n",
    "    embedding_result = genai.embed_content(\n",
    "        model='models/embedding-001',\n",
    "        content=text,\n",
    "        task_type='retrieval_query'\n",
    "    )\n",
    "    return np.array(embedding_result['embedding'], dtype=np.float32).reshape(1, -1)\n",
    "\n",
    "def retriever(query, index, sickness_names, k=1):\n",
    "    query_embedding = embed_query(query)\n",
    "    faiss.normalize_L2(query_embedding)\n",
    "    distances, indices = index.search(query_embedding, k)\n",
    "    retrieved_sickness = sickness_names[indices[0][0]]\n",
    "    return retrieved_sickness\n",
    "\n",
    "save_folder = \"rag_system\"\n",
    "# Load index and mappings for retrieval\n",
    "index = faiss.read_index(os.path.join(save_folder, \"index.faiss\"))\n",
    "with open(os.path.join(save_folder, \"documents.json\"), \"r\") as f:\n",
    "    docs_mapping = json.load(f)\n",
    "sickness_names = [docs_mapping[str(i)][\"sickness_name\"] for i in range(len(docs_mapping))]\n",
    "\n",
    "# Example usage\n",
    "input_symptoms = \"Runny nose, sneezing, sore throat\"\n",
    "retrieved_sickness = retriever(input_symptoms, index, sickness_names)\n",
    "\n",
    "# Dictionary of the retrieved sickness\n",
    "sicknesses[retrieved_sickness]"
   ]
  },
  {
   "cell_type": "markdown",
   "metadata": {},
   "source": [
    "# Token count ( good practice )"
   ]
  },
  {
   "cell_type": "code",
   "execution_count": 4,
   "metadata": {},
   "outputs": [
    {
     "name": "stdout",
     "output_type": "stream",
     "text": [
      "total_tokens:  total_tokens: 150\n",
      "\n"
     ]
    }
   ],
   "source": [
    "prompt = f\"{sicknesses[retrieved_sickness]}\"\n",
    "model = genai.GenerativeModel(\"models/gemini-1.5-flash\")\n",
    "\n",
    "# Call `count_tokens` to get the input token count (`total_tokens`).\n",
    "print(\"total_tokens: \", model.count_tokens(prompt))"
   ]
  },
  {
   "cell_type": "markdown",
   "metadata": {},
   "source": [
    "# Exemple "
   ]
  },
  {
   "cell_type": "code",
   "execution_count": null,
   "metadata": {},
   "outputs": [],
   "source": [
    "def generate_response(query, retrieved_docs):\n",
    "    model = genai.GenerativeModel('models/gemini-1.5-flash')    \n",
    "    prompt = f\"\"\"Respond to the query as if you're having a friendly, informative conversation:\n",
    "    Context:\n",
    "    {' '.join(retrieved_docs)}\n",
    "    Query: {query}\n",
    "    Explain the answer in a warm, accessible manner that's easy to understand.\"\"\"\n",
    "\n",
    "\n",
    "    response = model.generate_content(prompt)\n",
    "    return response.text\n",
    "\n",
    "\n",
    "input_symptoms = \"I sneeze all day ! what do i have ?\"\n",
    "retrieved_docs = retriever(input_symptoms, index, sickness_names)\n",
    "response = generate_response(input_symptoms, f\"{sicknesses[retrieved_sickness]}\")"
   ]
  },
  {
   "cell_type": "code",
   "execution_count": 12,
   "metadata": {},
   "outputs": [
    {
     "data": {
      "text/plain": [
       "\"Oh no, sneezing all day sounds really unpleasant!  It's impossible for me to tell you exactly what you have just from that symptom alone, since many things can cause excessive sneezing.  However, based on what you've described, it *sounds like* you might have a common cold.\\n\\nLooking at this information I have about the common cold, you'll see that one of the key symptoms is, indeed, a lot of sneezing.  Other symptoms often include a runny or stuffy nose, sore throat, cough, maybe a mild headache, and some fatigue.  Do any of those sound familiar?\\n\\nThe common cold is a viral infection of the upper respiratory tract – that's the nose and throat area. It's usually caused by rhinoviruses, and it spreads through tiny droplets in the air when someone coughs or sneezes, or by touching a contaminated surface.\\n\\nNow, it's important to remember I'm not a doctor, so I can't give medical advice.  If your sneezing is severe, persistent, or accompanied by other worrying symptoms like a high fever, difficulty breathing, or significant chest pain, you should definitely see a doctor to get a proper diagnosis and treatment.  They can rule out other possibilities and make sure you're getting the right care.\\n\\nIn the meantime, plenty of rest, drinking lots of fluids, and maybe some over-the-counter pain relievers (like ibuprofen or acetaminophen) for any aches or fever might help you feel a bit better.  Things like throat lozenges can also soothe a sore throat if you have one.  But again, a doctor's visit is best if your symptoms are concerning or don't improve.\\n\""
      ]
     },
     "execution_count": 12,
     "metadata": {},
     "output_type": "execute_result"
    }
   ],
   "source": [
    "response"
   ]
  },
  {
   "cell_type": "code",
   "execution_count": null,
   "metadata": {},
   "outputs": [],
   "source": []
  }
 ],
 "metadata": {
  "kernelspec": {
   "display_name": "Python 3",
   "language": "python",
   "name": "python3"
  },
  "language_info": {
   "codemirror_mode": {
    "name": "ipython",
    "version": 3
   },
   "file_extension": ".py",
   "mimetype": "text/x-python",
   "name": "python",
   "nbconvert_exporter": "python",
   "pygments_lexer": "ipython3",
   "version": "3.10.12"
  }
 },
 "nbformat": 4,
 "nbformat_minor": 2
}
