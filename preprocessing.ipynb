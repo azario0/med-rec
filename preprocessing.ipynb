{
 "cells": [
  {
   "cell_type": "markdown",
   "metadata": {},
   "source": [
    "# Preparing the data "
   ]
  },
  {
   "cell_type": "code",
   "execution_count": 1,
   "metadata": {},
   "outputs": [],
   "source": [
    "sicknesses = {\n",
    "    \"Common Cold\": {\n",
    "        \"Description\": \"A viral infection of the upper respiratory tract, primarily affecting the nose and throat.\",\n",
    "        \"Symptoms\": [\n",
    "            \"Runny or stuffy nose\",\n",
    "            \"Sneezing\",\n",
    "            \"Sore throat\",\n",
    "            \"Coughing\",\n",
    "            \"Mild headache\",\n",
    "            \"Fatigue\",\n",
    "            \"Low-grade fever\"\n",
    "        ],\n",
    "        \"Causes\": \"Caused by various viruses, most commonly rhinoviruses. Spreads through respiratory droplets or contact with contaminated surfaces.\",\n",
    "        \"Medications\": [\n",
    "            \"Decongestants (e.g., pseudoephedrine) for nasal congestion\",\n",
    "            \"Pain relievers (e.g., ibuprofen or acetaminophen) for fever and headaches\",\n",
    "            \"Cough suppressants (e.g., dextromethorphan)\",\n",
    "            \"Rest, hydration, and soothing throat lozenges\"\n",
    "        ]\n",
    "    },\n",
    "    \"Influenza (Flu)\": {\n",
    "        \"Description\": \"A highly contagious viral infection that affects the respiratory system.\",\n",
    "        \"Symptoms\": [\n",
    "            \"High fever\",\n",
    "            \"Chills\",\n",
    "            \"Muscle aches\",\n",
    "            \"Fatigue\",\n",
    "            \"Sore throat\",\n",
    "            \"Dry cough\",\n",
    "            \"Nasal congestion\"\n",
    "        ],\n",
    "        \"Causes\": \"Caused by influenza viruses transmitted via respiratory droplets or contaminated surfaces.\",\n",
    "        \"Medications\": [\n",
    "            \"Antiviral drugs (e.g., oseltamivir or zanamivir) if taken early\",\n",
    "            \"Pain relievers (e.g., acetaminophen or ibuprofen)\",\n",
    "            \"Rest, hydration, and over-the-counter medications for specific symptoms\"\n",
    "        ]\n",
    "    },\n",
    "    \"Gastroenteritis (Stomach Flu)\": {\n",
    "        \"Description\": \"An inflammation of the stomach and intestines causing digestive distress.\",\n",
    "        \"Symptoms\": [\n",
    "            \"Nausea\",\n",
    "            \"Vomiting\",\n",
    "            \"Diarrhea\",\n",
    "            \"Abdominal cramps\",\n",
    "            \"Fever\",\n",
    "            \"Dehydration\"\n",
    "        ],\n",
    "        \"Causes\": \"Viral (e.g., norovirus, rotavirus), bacterial (e.g., E. coli, Salmonella), or parasitic infections; consuming contaminated food or water.\",\n",
    "        \"Medications\": [\n",
    "            \"Oral rehydration solutions (ORS) for dehydration\",\n",
    "            \"Antidiarrheal drugs (e.g., loperamide, but not recommended for bacterial causes)\",\n",
    "            \"Antiemetics (e.g., ondansetron) for nausea\",\n",
    "            \"Probiotics to restore gut flora\"\n",
    "        ]\n",
    "    },\n",
    "    \"Urinary Tract Infection (UTI)\": {\n",
    "        \"Description\": \"An infection in any part of the urinary system, including the bladder, urethra, or kidneys.\",\n",
    "        \"Symptoms\": [\n",
    "            \"Pain or burning during urination\",\n",
    "            \"Frequent urge to urinate\",\n",
    "            \"Cloudy or foul-smelling urine\",\n",
    "            \"Pelvic pain\",\n",
    "            \"Sometimes fever\"\n",
    "        ],\n",
    "        \"Causes\": \"Bacterial infection, often Escherichia coli (E. coli), which enters through the urethra. Poor hygiene and dehydration increase risk.\",\n",
    "        \"Medications\": [\n",
    "            \"Antibiotics (e.g., nitrofurantoin, trimethoprim-sulfamethoxazole)\",\n",
    "            \"Pain relievers (e.g., phenazopyridine) for urinary discomfort\",\n",
    "            \"Increased water intake to flush out bacteria\"\n",
    "        ]\n",
    "    },\n",
    "    \"Allergic Rhinitis (Hay Fever)\": {\n",
    "        \"Description\": \"An allergic reaction to airborne allergens like pollen, dust mites, or pet dander.\",\n",
    "        \"Symptoms\": [\n",
    "            \"Sneezing\",\n",
    "            \"Runny or congested nose\",\n",
    "            \"Itchy eyes, throat, or nose\",\n",
    "            \"Watery eyes\",\n",
    "            \"Fatigue\"\n",
    "        ],\n",
    "        \"Causes\": \"Allergens trigger the immune system to release histamines, causing symptoms.\",\n",
    "        \"Medications\": [\n",
    "            \"Antihistamines (e.g., loratadine, cetirizine)\",\n",
    "            \"Nasal corticosteroids (e.g., fluticasone, mometasone)\",\n",
    "            \"Decongestants (e.g., pseudoephedrine) for temporary relief\",\n",
    "            \"Allergen avoidance and air purifiers to reduce exposure\"\n",
    "        ]\n",
    "    }\n",
    "}\n"
   ]
  },
  {
   "cell_type": "markdown",
   "metadata": {},
   "source": [
    "# Setting up the API key for gemini"
   ]
  },
  {
   "cell_type": "code",
   "execution_count": null,
   "metadata": {},
   "outputs": [],
   "source": [
    "import google.generativeai as genai\n",
    "genai.configure(api_key='YOUR_API_KEY')"
   ]
  },
  {
   "cell_type": "markdown",
   "metadata": {},
   "source": [
    "# Embedding"
   ]
  },
  {
   "cell_type": "code",
   "execution_count": 4,
   "metadata": {},
   "outputs": [],
   "source": [
    "import faiss\n",
    "import numpy as np\n",
    "\n",
    "# Prepare the data\n",
    "sickness_names = list(sicknesses.keys())\n",
    "symptoms_texts = ['; '.join(sicknesses[s]['Symptoms']) for s in sickness_names]\n",
    "\n",
    "def get_embedding(text):\n",
    "    embedding_result = genai.embed_content(\n",
    "        model='models/embedding-001',\n",
    "        content=text\n",
    "    )\n",
    "    if 'embedding' in embedding_result:\n",
    "        embedding_vector = np.array(embedding_result['embedding'], dtype=np.float32)\n",
    "        return embedding_vector\n",
    "    else:\n",
    "        raise ValueError(f\"No 'embedding' field found for document: {text}\")\n",
    "\n",
    "# Generate embeddings for symptoms_texts\n",
    "embeddings = [get_embedding(text) for text in symptoms_texts]"
   ]
  },
  {
   "cell_type": "markdown",
   "metadata": {},
   "source": [
    "# Checking"
   ]
  },
  {
   "cell_type": "code",
   "execution_count": 5,
   "metadata": {},
   "outputs": [
    {
     "name": "stdout",
     "output_type": "stream",
     "text": [
      "Number of embedded documents: 5\n",
      "Embedding dimension: 768\n"
     ]
    }
   ],
   "source": [
    "print(f\"Number of embedded documents: {len(embeddings)}\")\n",
    "print(f\"Embedding dimension: {len(embeddings[0])}\")"
   ]
  },
  {
   "cell_type": "markdown",
   "metadata": {},
   "source": [
    "# Saving"
   ]
  },
  {
   "cell_type": "code",
   "execution_count": null,
   "metadata": {},
   "outputs": [],
   "source": [
    "import os\n",
    "import json\n",
    "\n",
    "# Convert embeddings to numpy array\n",
    "embedded_docs_np = np.array(embeddings, dtype=np.float32)\n",
    "\n",
    "# Normalize vectors for cosine similarity\n",
    "faiss.normalize_L2(embedded_docs_np)\n",
    "\n",
    "# Create FAISS index\n",
    "embedding_dim = embedded_docs_np.shape[1]\n",
    "index = faiss.IndexFlatIP(embedding_dim)\n",
    "index.add(embedded_docs_np)\n",
    "\n",
    "# Create save directory\n",
    "save_folder = \"rag_system\"\n",
    "os.makedirs(save_folder, exist_ok=True)\n",
    "\n",
    "# Save FAISS index\n",
    "index_path = os.path.join(save_folder, \"index.faiss\")\n",
    "faiss.write_index(index, index_path)\n",
    "\n",
    "# Save documents mapping\n",
    "docs_mapping = {\n",
    "    str(i): {\n",
    "        \"sickness_name\": sickness_names[i],\n",
    "        \"symptoms_text\": symptoms_texts[i],\n",
    "    }\n",
    "    for i in range(len(sickness_names))\n",
    "}\n",
    "\n",
    "with open(os.path.join(save_folder, \"documents.json\"), \"w\") as f:\n",
    "    json.dump(docs_mapping, f)"
   ]
  },
  {
   "cell_type": "code",
   "execution_count": null,
   "metadata": {},
   "outputs": [],
   "source": []
  }
 ],
 "metadata": {
  "kernelspec": {
   "display_name": "Python 3",
   "language": "python",
   "name": "python3"
  },
  "language_info": {
   "codemirror_mode": {
    "name": "ipython",
    "version": 3
   },
   "file_extension": ".py",
   "mimetype": "text/x-python",
   "name": "python",
   "nbconvert_exporter": "python",
   "pygments_lexer": "ipython3",
   "version": "3.10.12"
  }
 },
 "nbformat": 4,
 "nbformat_minor": 2
}
